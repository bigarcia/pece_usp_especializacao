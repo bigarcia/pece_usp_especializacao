{
  "nbformat": 4,
  "nbformat_minor": 0,
  "metadata": {
    "colab": {
      "provenance": [],
      "include_colab_link": true
    },
    "kernelspec": {
      "name": "python3",
      "display_name": "Python 3"
    },
    "language_info": {
      "name": "python"
    }
  },
  "cells": [
    {
      "cell_type": "markdown",
      "metadata": {
        "id": "view-in-github",
        "colab_type": "text"
      },
      "source": [
        "<a href=\"https://colab.research.google.com/github/bigarcia/pece_usp_especializacao/blob/main/Exerc%C3%ADcio_3.ipynb\" target=\"_parent\"><img src=\"https://colab.research.google.com/assets/colab-badge.svg\" alt=\"Open In Colab\"/></a>"
      ]
    },
    {
      "cell_type": "markdown",
      "source": [
        "## Install libs"
      ],
      "metadata": {
        "id": "-1TcyoBLR6B0"
      }
    },
    {
      "cell_type": "code",
      "execution_count": null,
      "metadata": {
        "colab": {
          "base_uri": "https://localhost:8080/"
        },
        "id": "905kvvTMQoT-",
        "outputId": "ee40db7b-0aa6-4412-90b7-397cc3ea6309"
      },
      "outputs": [
        {
          "output_type": "stream",
          "name": "stdout",
          "text": [
            "Collecting pyspark\n",
            "  Downloading pyspark-3.5.2.tar.gz (317.3 MB)\n",
            "\u001b[2K     \u001b[90m━━━━━━━━━━━━━━━━━━━━━━━━━━━━━━━━━━━━━━━━\u001b[0m \u001b[32m317.3/317.3 MB\u001b[0m \u001b[31m4.8 MB/s\u001b[0m eta \u001b[36m0:00:00\u001b[0m\n",
            "\u001b[?25h  Preparing metadata (setup.py) ... \u001b[?25l\u001b[?25hdone\n",
            "Requirement already satisfied: py4j==0.10.9.7 in /usr/local/lib/python3.10/dist-packages (from pyspark) (0.10.9.7)\n",
            "Building wheels for collected packages: pyspark\n",
            "  Building wheel for pyspark (setup.py) ... \u001b[?25l\u001b[?25hdone\n",
            "  Created wheel for pyspark: filename=pyspark-3.5.2-py2.py3-none-any.whl size=317812365 sha256=d2e1be33f2c85c071bc86551718ef9b4d028d52fd5b577dd1d895959b821e24a\n",
            "  Stored in directory: /root/.cache/pip/wheels/34/34/bd/03944534c44b677cd5859f248090daa9fb27b3c8f8e5f49574\n",
            "Successfully built pyspark\n",
            "Installing collected packages: pyspark\n",
            "Successfully installed pyspark-3.5.2\n"
          ]
        }
      ],
      "source": [
        "!pip install pyspark"
      ]
    },
    {
      "cell_type": "markdown",
      "source": [
        "Install the Hadoop AWS library to enable Spark to interact with S3:"
      ],
      "metadata": {
        "id": "MEKXqAxakl_I"
      }
    },
    {
      "cell_type": "markdown",
      "source": [
        "## Functions"
      ],
      "metadata": {
        "id": "nJIErrOhSO_e"
      }
    },
    {
      "cell_type": "code",
      "source": [
        "from pyspark.sql import SparkSession\n",
        "\n",
        "def read_files(spark,source_path,delimiter, format=\"csv\"):\n",
        "\n",
        "  # Read data from csv file\n",
        "  # df = spark.read.csv(\"path_to_your_file.csv\", header=True, inferSchema=True)\n",
        "  print(f\"Reading file/folder: {source_path} using delimiter {delimiter}\")\n",
        "  df = spark.read.format(format).options(delimiter=delimiter, header=True, inferSchema=True).load(source_path)\n",
        "\n",
        "\n",
        "  df.show(3)\n",
        "  print(\"Total rows:\",df.count())\n",
        "\n",
        "  return df"
      ],
      "metadata": {
        "id": "Hl6egbyWTu4-"
      },
      "execution_count": 35,
      "outputs": []
    },
    {
      "cell_type": "code",
      "source": [
        "# When you write a DataFrame to a Parquet file using PySpark, multiple files are often created by default. This happens because Spark writes out data in parallel and uses multiple partitions to distribute the workload. Each partition of your DataFrame is written to a separate Parquet file.\n",
        "def write_parquet_files(spark,df,destination_folder):\n",
        "  df.write.mode('overwrite').parquet(destination_folder)"
      ],
      "metadata": {
        "id": "LEq_ew2upDD2"
      },
      "execution_count": 36,
      "outputs": []
    },
    {
      "cell_type": "code",
      "source": [
        "def transformation_trusted(folder_name, df):\n",
        "  from pyspark.sql.functions import regexp_replace, col, row_number, when, isnull\n",
        "  from pyspark.sql.window import Window\n",
        "\n",
        "  if folder_name == \"Bancos\":\n",
        "    # A solução segue o mesmo principio do windows function row_number() no SQL\n",
        "    # Create a window partitioned by col1, ordered by row_number\n",
        "    # window = Window.partitionBy(\"CNPJ\").orderBy(row_number().over(Window.partitionBy(\"CNPJ\").orderBy(\"Nome\")))\n",
        "    window = Window.partitionBy(\"CNPJ\").orderBy(row_number().over(Window.partitionBy(\"CNPJ\").orderBy(\"Nome\")))\n",
        "\n",
        "    # Calculate row number for each partition\n",
        "    df = df.withColumn(\"row_num\", row_number().over(window))\n",
        "\n",
        "    # Filter to keep the first row for each partition\n",
        "    df = df.filter(col(\"row_num\") == 1)\n",
        "\n",
        "    df.show(3)\n",
        "    print(\"Total rows after transformation:\",df.count())\n",
        "\n",
        "    # Remove \"- PRUDENTIAL\" dos nomes\n",
        "    df = df.withColumn(\"Nome Original\", col(\"Nome\"))\n",
        "    df = df.withColumn(\"Nome\", regexp_replace(col(\"Nome\"), \"- PRUDENCIAL\", \"\"))\n",
        "\n",
        "    print(\"Limpeza realizada com sucesso: dados deduplicados e remoção do sufixo '- PRUDENCIAL' da coluna Nome\")\n",
        "  # if folder_name == \"Empregados\":\n",
        "  #   df = df.withColumn(\"CNPJ_Segmento\", when(isnull(col(\"CNPJ\")), col(\"Segmento\")).otherwise(col(\"CNPJ\")))\n",
        "\n",
        "  df.show()\n",
        "  return df"
      ],
      "metadata": {
        "id": "ZtoY_XgJzHYo"
      },
      "execution_count": 37,
      "outputs": []
    },
    {
      "cell_type": "code",
      "source": [
        "#TO DO: Colocar dados para conexão\n",
        "def load_dataframe_to_postgres(df, table_name, schema_name):\n",
        "  # PostgreSQL connection details\n",
        "\n",
        "  host = \"your_host\"\n",
        "  port = \"your_port\"\n",
        "  database = \"your_database\"\n",
        "  user = \"your_username\"\n",
        "  password = \"your_password\"\n",
        "\n",
        "  # Construct JDBC URL with schema\n",
        "  jdbc_url = f\"jdbc:postgresql://{host}:{port}/{database}?currentSchema={schema_name}\"\n",
        "\n",
        "  # Write DataFrame to PostgreSQL\n",
        "  df.write.format(\"jdbc\") \\\n",
        "    .option(\"url\", jdbc_url) \\\n",
        "    .option(\"dbtable\", \"your_table\") \\\n",
        "    .option(\"driver\", \"org.postgresql.Driver\") \\\n",
        "    .option(\"user\", user) \\\n",
        "    .option(\"password\", password) \\\n",
        "    .mode(\"overwrite\") \\\n",
        "    .save()"
      ],
      "metadata": {
        "id": "jWKlmxXtftuo"
      },
      "execution_count": 30,
      "outputs": []
    },
    {
      "cell_type": "code",
      "source": [
        "def special_character_transforming(column):\n",
        "\n",
        "  corrections = {\n",
        "            \"CR�DITO\": \"CRÉDITO\",\n",
        "            \"MUNIC�PIO\": \"MUNICÍPIO\",\n",
        "            \"UB�\": \"UBÁ\",\n",
        "            \"S�O\": \"SÃO\",\n",
        "            \"M�TUO\": \"MÚTUO\",\n",
        "            \"CONFEDERA��O\": \"CONFEDERAÇÃO\",\n",
        "            \"REGI�O\": \"REGIÃO\",\n",
        "            \"AMAZ�NIA\": \"AMAZÔNIA\",\n",
        "            \"ADMISS�O\": \" ADMISSÃO\",\n",
        "            \"TRANSAMAZ�NICA\": \"TRANSAMAZÔNICA\",\n",
        "            \"GOI�S\": \"GOIÁS\",\n",
        "            \"INTERA��O\": \"INTERAÇÃO\",\n",
        "            \"SOLID�RIA\": \"SOLIDÁRIA\",\n",
        "            \"AG�NCIA\": \"AGÊNCIA\",\n",
        "            \"RIBEIR�O\": \"RIBEIR˜AO\",\n",
        "            \"TOP�ZIO\": \"TOPÁZIO\",\n",
        "            \"PIAU�\": \"PIAUÍ\"\n",
        "\n",
        "\n",
        "        }\n",
        "  for val in column:\n",
        "    if val in corrections[0]:\n",
        "      val_new = corrections[val]"
      ],
      "metadata": {
        "id": "ZZ43ZtY33V9D"
      },
      "execution_count": 31,
      "outputs": []
    },
    {
      "cell_type": "markdown",
      "source": [
        "1. Lemos o arquivo csv e tsv, salvamos no format parquet em camadas (raw, trusted e delivery), e depois fizemos load para postgre para cada camada"
      ],
      "metadata": {
        "id": "wYj-uvncfdjF"
      }
    },
    {
      "cell_type": "markdown",
      "source": [
        "## Raw + Trusted"
      ],
      "metadata": {
        "id": "StjvaZ4BoBwW"
      }
    },
    {
      "cell_type": "code",
      "source": [
        "import os\n",
        "\n",
        "# Create a Spark session\n",
        "spark = SparkSession.builder \\\n",
        "    .appName(\"Exercício 3\") \\\n",
        "    .getOrCreate()\n",
        "\n",
        "# list_folders = [\n",
        "#   {\"folder_name\":\"Bancos\", \"delimiter\": \"\\t\"},\n",
        "#   {\"folder_name\":\"Reclamações\", \"delimiter\": \";\"},\n",
        "#   {\"folder_name\":\"Empregados\", \"delimiter\": \"|\"},\n",
        "# ]\n",
        "list_folders = [\n",
        "   {\"folder_name\":\"Empregados\", \"delimiter\": \"|\"},\n",
        "]\n",
        "root = '/content/sample_data'\n",
        "for folder in list_folders:\n",
        "    print(\"\\nProcessing folder folder...\")\n",
        "    folder_name = folder[\"folder_name\"]\n",
        "    delimiter = folder[\"delimiter\"]\n",
        "    table_name = folder[\"folder_name\"].lower()\n",
        "    folder_path = os.path.join(root,folder_name)\n",
        "    file_list = os.listdir(folder_path)\n",
        "\n",
        "\n",
        "    # TODO: Definir o schema previamente da tabela de reclamações para corrigir a coluna de CNPJ +  Segmento? Na função read_files to usando o infer_schema\n",
        "\n",
        "    #Verifica qual é o tipo do arquivo, e só aceita se for csv ou tsv\n",
        "    if file_list[0].endswith('.csv') or file_list[0].endswith('.tsv'):\n",
        "      df_raw = read_files(spark,os.path.join(folder_path,file_list[0]),delimiter, \"csv\")\n",
        "      if folder_name == \"Empregados\":\n",
        "        df_raw = df_raw.withColumnRenamed(\"CNPJ\", \"CNPJ_Segmento\")\n",
        "    for file_name in file_list[1:]:\n",
        "        source_file_path = os.path.join(folder_path,file_name)\n",
        "        if file_name.endswith('.csv') or file_name.endswith('.tsv'):\n",
        "          temp_df = read_files(spark,source_file_path,delimiter, \"csv\")\n",
        "          df_raw = df_raw.union(temp_df)\n",
        "          print(f\"Total rows table {table_name}:\",df_raw.count())\n",
        "    df_raw.show(5)\n",
        "    print(f\"Total rows table {table_name}:\",df_raw.count())\n",
        "\n",
        "\n",
        "    ### Camada raw ###\n",
        "    raw_folder = os.path.join(root, \"raw\", table_name)\n",
        "    print(f\"\\n Escrevendo arquivos de {folder_name} em parquet...\")\n",
        "    print(f\"\\n Dataframe resultado da camada raw:\")\n",
        "    df_raw.show()\n",
        "    write_parquet_files(spark, df_raw, raw_folder)\n",
        "    # load_dataframe_to_postgres(df_raw, table_name, \"raw\")\n",
        "\n",
        "\n",
        "    ### Camada trusted ###\n",
        "\n",
        "    #Ler da camada raw\n",
        "    print(\"\\n Lendo arquivos parquet da camada raw\")\n",
        "    read_raw = read_files(spark,raw_folder,delimiter, \"parquet\")\n",
        "    read_raw.show(5)\n",
        "\n",
        "\n",
        "\n",
        "    #TODO:fazer trativa decode. Uma solução; pegar o nome oficial da base de bancos (aquele git externo)\n",
        "    # ===== Sugestão =====\n",
        "    # Outra sugestão: Passa um for identificando os nomes que contém <?>, se existir ele irá buscar em um dict o valor correspondente aquela palavra (palavra correta).\n",
        "    # Se não existir, cria um arquivo .txt com o nome errado para que possamos verificar e acrescentar o nome correto.\n",
        "    # Toda vez que executar o código, o arquivo será deletado e só será criado um novo caso aconteça novamente de ter uma nova palavra\n",
        "    print(f\"Limpando os dados da tabela {folder_name}...\")\n",
        "    df_trusted = transformation_trusted(folder_name, df_raw)\n",
        "    # Escrever na camada trusted\n",
        "    trusted_folder = os.path.join(root, \"trusted\", table_name)\n",
        "    print(\"\\n Escrevendo em arquivo parquet...\")\n",
        "    write_parquet_files(spark, df_trusted, trusted_folder)\n",
        "    print(\"\\n Dataframe resultado da camada trusted:\")\n",
        "    df_trusted.show()\n",
        "    #Escrever no banco de dados\n",
        "    # load_dataframe_to_postgres(df_trusted, table_name, \"trusted\")\n"
      ],
      "metadata": {
        "colab": {
          "base_uri": "https://localhost:8080/"
        },
        "id": "NOAIq8VwTJQZ",
        "outputId": "8a039ce2-80b7-4d20-f92a-ffec18c2feec"
      },
      "execution_count": 38,
      "outputs": [
        {
          "output_type": "stream",
          "name": "stdout",
          "text": [
            "\n",
            "Processing folder folder...\n",
            "Reading file/folder: /content/sample_data/Empregados/glassdoor_consolidado_join_match_less_v2.csv using delimiter |\n",
            "+--------------------+-------------+-------------+--------------+--------------+--------------------+---------------------+----------------+--------------------+--------------------+--------------------+-----+-----------------+----------------------+-----------------+--------------+------------------------+-------------------------+---------------------------------+----------------------------------+--------+--------------------+-------------+\n",
            "|       employer_name|reviews_count|culture_count|salaries_count|benefits_count|    employer-website|employer-headquarters|employer-founded|   employer-industry|    employer-revenue|                 url|Geral|Cultura e valores|Diversidade e inclusão|Qualidade de vida|Alta liderança|Remuneração e benefícios|Oportunidades de carreira|Recomendam para outras pessoas(%)|Perspectiva positiva da empresa(%)|    CNPJ|                Nome|match_percent|\n",
            "+--------------------+-------------+-------------+--------------+--------------+--------------------+---------------------+----------------+--------------------+--------------------+--------------------+-----+-----------------+----------------------+-----------------+--------------+------------------------+-------------------------+---------------------------------+----------------------------------+--------+--------------------+-------------+\n",
            "|          Apex Group|          450|          281|           592|            74|http://www.apexgr...|    Hamilton, Bermuda|          2003.0|/Explorar/melhore...|Mais de US$ 10 bi...|https://www.glass...|  3.2|              2.9|                   3.5|              3.0|           2.9|                     2.7|                      3.2|                             52.0|                              53.0|  655522|          APE POUPEX|           70|\n",
            "|          Banco Alfa|          175|           74|           271|           105|http://www.alfane...|    São Paulo, Brasil|          1925.0|/Explorar/melhore...|Desconhecida/não ...|https://www.glass...|  3.5|              3.2|                   3.2|              3.1|           2.8|                     3.8|                      2.7|                             68.0|                              47.0|58160789|               SAFRA|           67|\n",
            "|China Constructio...|          871|          194|           720|           240|  http://www.ccb.com|        Pequim, China|            NULL|/Explorar/melhore...|Mais de US$ 10 bi...|https://www.glass...|  3.4|              3.0|                   3.0|              3.4|           2.9|                     3.5|                      2.8|                             54.0|                              42.0| 7450604|CHINA CONSTRUCTIO...|           77|\n",
            "+--------------------+-------------+-------------+--------------+--------------+--------------------+---------------------+----------------+--------------------+--------------------+--------------------+-----+-----------------+----------------------+-----------------+--------------+------------------------+-------------------------+---------------------------------+----------------------------------+--------+--------------------+-------------+\n",
            "only showing top 3 rows\n",
            "\n",
            "Total rows: 5\n",
            "Reading file/folder: /content/sample_data/Empregados/glassdoor_consolidado_join_match_v2.csv using delimiter |\n",
            "+-------------+-------------+-------------+--------------+--------------+--------------------+---------------------+----------------+--------------------+--------------------+--------------------+-----+-----------------+----------------------+-----------------+--------------+------------------------+-------------------------+---------------------------------+----------------------------------+--------+-----------+-------------+\n",
            "|employer_name|reviews_count|culture_count|salaries_count|benefits_count|    employer-website|employer-headquarters|employer-founded|   employer-industry|    employer-revenue|                 url|Geral|Cultura e valores|Diversidade e inclusão|Qualidade de vida|Alta liderança|Remuneração e benefícios|Oportunidades de carreira|Recomendam para outras pessoas(%)|Perspectiva positiva da empresa(%)|Segmento|       Nome|match_percent|\n",
            "+-------------+-------------+-------------+--------------+--------------+--------------------+---------------------+----------------+--------------------+--------------------+--------------------+-----+-----------------+----------------------+-----------------+--------------+------------------------+-------------------------+---------------------------------+----------------------------------+--------+-----------+-------------+\n",
            "|  BNP Paribas|        13000|         4100|         20000|          3600|http://www.group....|        Paris, França|          2000.0|/Explorar/melhore...|Mais de US$ 10 bi...|https://www.glass...|  3.8|              3.7|                   4.0|              3.8|           3.4|                     3.4|                      3.5|                             77.0|                              63.0|      S3|BNP PARIBAS|          100|\n",
            "|  BTG Pactual|         1600|          683|          2800|           635|http://www.btgpac...|    São Paulo, Brasil|            NULL|/Explorar/melhore...|Desconhecida/não ...|https://www.glass...|  4.0|              3.7|                   3.5|              2.8|           3.7|                     4.4|                      4.2|                             78.0|                              73.0|      S1|BTG PACTUAL|          100|\n",
            "|   Banco Alfa|          175|           74|           271|           105|http://www.alfane...|    São Paulo, Brasil|          1925.0|/Explorar/melhore...|Desconhecida/não ...|https://www.glass...|  3.5|              3.2|                   3.2|              3.1|           2.8|                     3.8|                      2.7|                             68.0|                              47.0|      S3|       ALFA|          100|\n",
            "+-------------+-------------+-------------+--------------+--------------+--------------------+---------------------+----------------+--------------------+--------------------+--------------------+-----+-----------------+----------------------+-----------------+--------------+------------------------+-------------------------+---------------------------------+----------------------------------+--------+-----------+-------------+\n",
            "only showing top 3 rows\n",
            "\n",
            "Total rows: 34\n",
            "Total rows table empregados: 39\n",
            "+--------------------+-------------+-------------+--------------+--------------+--------------------+---------------------+----------------+--------------------+--------------------+--------------------+-----+-----------------+----------------------+-----------------+--------------+------------------------+-------------------------+---------------------------------+----------------------------------+-------------+--------------------+-------------+\n",
            "|       employer_name|reviews_count|culture_count|salaries_count|benefits_count|    employer-website|employer-headquarters|employer-founded|   employer-industry|    employer-revenue|                 url|Geral|Cultura e valores|Diversidade e inclusão|Qualidade de vida|Alta liderança|Remuneração e benefícios|Oportunidades de carreira|Recomendam para outras pessoas(%)|Perspectiva positiva da empresa(%)|CNPJ_Segmento|                Nome|match_percent|\n",
            "+--------------------+-------------+-------------+--------------+--------------+--------------------+---------------------+----------------+--------------------+--------------------+--------------------+-----+-----------------+----------------------+-----------------+--------------+------------------------+-------------------------+---------------------------------+----------------------------------+-------------+--------------------+-------------+\n",
            "|          Apex Group|          450|          281|           592|            74|http://www.apexgr...|    Hamilton, Bermuda|          2003.0|/Explorar/melhore...|Mais de US$ 10 bi...|https://www.glass...|  3.2|              2.9|                   3.5|              3.0|           2.9|                     2.7|                      3.2|                             52.0|                              53.0|       655522|          APE POUPEX|           70|\n",
            "|          Banco Alfa|          175|           74|           271|           105|http://www.alfane...|    São Paulo, Brasil|          1925.0|/Explorar/melhore...|Desconhecida/não ...|https://www.glass...|  3.5|              3.2|                   3.2|              3.1|           2.8|                     3.8|                      2.7|                             68.0|                              47.0|     58160789|               SAFRA|           67|\n",
            "|China Constructio...|          871|          194|           720|           240|  http://www.ccb.com|        Pequim, China|            NULL|/Explorar/melhore...|Mais de US$ 10 bi...|https://www.glass...|  3.4|              3.0|                   3.0|              3.4|           2.9|                     3.5|                      2.8|                             54.0|                              42.0|      7450604|CHINA CONSTRUCTIO...|           77|\n",
            "|Mercedes-Benz Mob...|          282|           90|           513|           118|https://www.merce...|  Estugarda, Alemanha|          1990.0|/Explorar/melhore...|Mais de US$ 10 bi...|https://www.glass...|  4.1|              4.1|                   4.0|              4.4|           3.7|                     4.0|                      3.6|                             87.0|                              51.0|     60814191|       MERCEDES-BENZ|           73|\n",
            "|Sumitomo Mitsui F...|          903|          246|          1300|           290|http://www.smfg.c...|        Tóquio, Japão|          1996.0|/Explorar/melhore...|Mais de US$ 10 bi...|https://www.glass...|  3.4|              3.2|                   3.3|              3.4|           3.1|                     3.3|                      3.1|                             56.0|                              53.0|     60518222|BANCO SUMITOMO MI...|           65|\n",
            "+--------------------+-------------+-------------+--------------+--------------+--------------------+---------------------+----------------+--------------------+--------------------+--------------------+-----+-----------------+----------------------+-----------------+--------------+------------------------+-------------------------+---------------------------------+----------------------------------+-------------+--------------------+-------------+\n",
            "only showing top 5 rows\n",
            "\n",
            "Total rows table empregados: 39\n",
            "\n",
            " Escrevendo arquivos de Empregados em parquet...\n",
            "\n",
            " Dataframe resultado da camada raw:\n",
            "+--------------------+-------------+-------------+--------------+--------------+--------------------+---------------------+----------------+--------------------+--------------------+--------------------+-----+-----------------+----------------------+-----------------+--------------+------------------------+-------------------------+---------------------------------+----------------------------------+-------------+--------------------+-------------+\n",
            "|       employer_name|reviews_count|culture_count|salaries_count|benefits_count|    employer-website|employer-headquarters|employer-founded|   employer-industry|    employer-revenue|                 url|Geral|Cultura e valores|Diversidade e inclusão|Qualidade de vida|Alta liderança|Remuneração e benefícios|Oportunidades de carreira|Recomendam para outras pessoas(%)|Perspectiva positiva da empresa(%)|CNPJ_Segmento|                Nome|match_percent|\n",
            "+--------------------+-------------+-------------+--------------+--------------+--------------------+---------------------+----------------+--------------------+--------------------+--------------------+-----+-----------------+----------------------+-----------------+--------------+------------------------+-------------------------+---------------------------------+----------------------------------+-------------+--------------------+-------------+\n",
            "|          Apex Group|          450|          281|           592|            74|http://www.apexgr...|    Hamilton, Bermuda|          2003.0|/Explorar/melhore...|Mais de US$ 10 bi...|https://www.glass...|  3.2|              2.9|                   3.5|              3.0|           2.9|                     2.7|                      3.2|                             52.0|                              53.0|       655522|          APE POUPEX|           70|\n",
            "|          Banco Alfa|          175|           74|           271|           105|http://www.alfane...|    São Paulo, Brasil|          1925.0|/Explorar/melhore...|Desconhecida/não ...|https://www.glass...|  3.5|              3.2|                   3.2|              3.1|           2.8|                     3.8|                      2.7|                             68.0|                              47.0|     58160789|               SAFRA|           67|\n",
            "|China Constructio...|          871|          194|           720|           240|  http://www.ccb.com|        Pequim, China|            NULL|/Explorar/melhore...|Mais de US$ 10 bi...|https://www.glass...|  3.4|              3.0|                   3.0|              3.4|           2.9|                     3.5|                      2.8|                             54.0|                              42.0|      7450604|CHINA CONSTRUCTIO...|           77|\n",
            "|Mercedes-Benz Mob...|          282|           90|           513|           118|https://www.merce...|  Estugarda, Alemanha|          1990.0|/Explorar/melhore...|Mais de US$ 10 bi...|https://www.glass...|  4.1|              4.1|                   4.0|              4.4|           3.7|                     4.0|                      3.6|                             87.0|                              51.0|     60814191|       MERCEDES-BENZ|           73|\n",
            "|Sumitomo Mitsui F...|          903|          246|          1300|           290|http://www.smfg.c...|        Tóquio, Japão|          1996.0|/Explorar/melhore...|Mais de US$ 10 bi...|https://www.glass...|  3.4|              3.2|                   3.3|              3.4|           3.1|                     3.3|                      3.1|                             56.0|                              53.0|     60518222|BANCO SUMITOMO MI...|           65|\n",
            "|         BNP Paribas|        13000|         4100|         20000|          3600|http://www.group....|        Paris, França|          2000.0|/Explorar/melhore...|Mais de US$ 10 bi...|https://www.glass...|  3.8|              3.7|                   4.0|              3.8|           3.4|                     3.4|                      3.5|                             77.0|                              63.0|           S3|         BNP PARIBAS|          100|\n",
            "|         BTG Pactual|         1600|          683|          2800|           635|http://www.btgpac...|    São Paulo, Brasil|            NULL|/Explorar/melhore...|Desconhecida/não ...|https://www.glass...|  4.0|              3.7|                   3.5|              2.8|           3.7|                     4.4|                      4.2|                             78.0|                              73.0|           S1|         BTG PACTUAL|          100|\n",
            "|          Banco Alfa|          175|           74|           271|           105|http://www.alfane...|    São Paulo, Brasil|          1925.0|/Explorar/melhore...|Desconhecida/não ...|https://www.glass...|  3.5|              3.2|                   3.2|              3.1|           2.8|                     3.8|                      2.7|                             68.0|                              47.0|           S3|                ALFA|          100|\n",
            "|           Banco BMG|          445|          232|           704|           277|http://www.bancob...|    São Paulo, Brasil|          1930.0|/Explorar/melhore...|De US$ 1 a US$ 5 ...|https://www.glass...|  4.1|              3.9|                   4.1|              3.7|           3.6|                     4.2|                      3.5|                             79.0|                              63.0|           S3|                 BMG|          100|\n",
            "|      Banco Bradesco|        11000|         3300|         19000|          3200|http://www.bancob...|       Osasco, Brasil|          1943.0|/Explorar/melhore...|Mais de US$ 10 bi...|https://www.glass...|  4.2|              3.8|                   3.9|              3.4|           3.4|                     4.3|                      3.8|                             81.0|                              66.0|           S1|            BRADESCO|          100|\n",
            "|      Banco Daycoval|          300|          157|           521|           107|https://www.dayco...|    São Paulo, Brasil|          1971.0|/Explorar/melhore...|De US$ 25 a US$ 1...|https://www.glass...|  4.0|              3.7|                   3.6|              3.4|           3.3|                     4.1|                      3.4|                             78.0|                              72.0|           S3|  BANCO DAYCOVAL S.A|          100|\n",
            "|         Banco Fibra|          119|           41|           172|            37|http://www.bancof...|    São Paulo, Brasil|            NULL|/Explorar/melhore...|Desconhecida/não ...|https://www.glass...|  4.3|              4.3|                   4.3|              3.8|           3.7|                     4.2|                      3.6|                             87.0|                              84.0|           S3|    BANCO FIBRA S.A.|          100|\n",
            "|      Banco Original|          651|          286|          1100|           261|http://www.origin...|    São Paulo, Brasil|          2016.0|/Explorar/melhore...|Desconhecida/não ...|https://www.glass...|  3.8|              3.4|                   3.5|              3.4|           3.1|                     4.0|                      3.3|                             71.0|                              53.0|           S3|            ORIGINAL|          100|\n",
            "|           Banco PAN|         1100|          520|          1700|           493|http://www.bancop...|    São Paulo, Brasil|          2011.0|/Explorar/melhore...|Desconhecida/não ...|https://www.glass...|  4.4|              4.2|                   4.4|              3.9|           3.9|                     4.6|                      4.0|                             91.0|                              79.0|           S3|                 PAN|          100|\n",
            "|          Banco Pine|          121|           45|           216|            63| http://www.pine.com|    São Paulo, Brasil|          1997.0|/Explorar/melhore...|Desconhecida/não ...|https://www.glass...|  3.8|              3.5|                   3.5|              3.4|           3.0|                     3.9|                      3.5|                             71.0|                              50.0|           S3|                PINE|          100|\n",
            "|    Banco Votorantim|         1400|          563|          2100|           574|http://www.bancob...|    São Paulo, Brasil|          1991.0|/Explorar/melhore...|Desconhecida/não ...|https://www.glass...|  4.4|              4.3|                   4.4|              4.1|           3.9|                     4.6|                      3.9|                             93.0|                              79.0|           S2|          VOTORANTIM|          100|\n",
            "|     Banco do Brasil|         5000|         1100|          9200|          1200|https://www.bb.co...|     Brasília, Brasil|          1808.0|/Explorar/melhore...|Desconhecida/não ...|https://www.glass...|  4.3|              3.9|                   4.0|              3.7|           3.5|                     4.2|                      3.8|                             86.0|                              72.0|           S1|     BANCO DO BRASIL|          100|\n",
            "|Banco do Nordeste...|          525|          113|           840|           115|http://www.bnb.go...|    Fortaleza, Brasil|            NULL|/Explorar/melhore...|Desconhecido/Não ...|https://www.glass...|  4.5|              4.4|                   4.3|              4.3|           4.1|                     4.2|                      4.0|                             90.0|                              83.0|           S2|BANCO DO NORDESTE...|          100|\n",
            "|Bank Of Tokyo-Mit...|          770|          150|          1100|           228|http://www.bk.muf...|        Tóquio, Japão|          1919.0|/Explorar/melhore...|Mais de US$ 10 bi...|https://www.glass...|  3.6|              3.6|                   3.5|              3.4|           3.3|                     3.6|                      3.3|                             65.0|                              43.0|           S3|BANCO TOKYO-MITSU...|           80|\n",
            "|            Banrisul|         1000|          155|          1700|           127|http://www.banris...| Porto Alegre, Brasil|            NULL|/Explorar/melhore...|De US$ 25 a US$ 1...|https://www.glass...|  4.2|              3.6|                   3.8|              3.7|           3.4|                     4.1|                      3.3|                             84.0|                              59.0|           S2|            BANRISUL|          100|\n",
            "+--------------------+-------------+-------------+--------------+--------------+--------------------+---------------------+----------------+--------------------+--------------------+--------------------+-----+-----------------+----------------------+-----------------+--------------+------------------------+-------------------------+---------------------------------+----------------------------------+-------------+--------------------+-------------+\n",
            "only showing top 20 rows\n",
            "\n",
            "\n",
            " Lendo arquivos parquet da camada raw\n",
            "Reading file/folder: /content/sample_data/raw/empregados using delimiter |\n",
            "+-------------+-------------+-------------+--------------+--------------+--------------------+---------------------+----------------+--------------------+--------------------+--------------------+-----+-----------------+----------------------+-----------------+--------------+------------------------+-------------------------+---------------------------------+----------------------------------+-------------+-----------+-------------+\n",
            "|employer_name|reviews_count|culture_count|salaries_count|benefits_count|    employer-website|employer-headquarters|employer-founded|   employer-industry|    employer-revenue|                 url|Geral|Cultura e valores|Diversidade e inclusão|Qualidade de vida|Alta liderança|Remuneração e benefícios|Oportunidades de carreira|Recomendam para outras pessoas(%)|Perspectiva positiva da empresa(%)|CNPJ_Segmento|       Nome|match_percent|\n",
            "+-------------+-------------+-------------+--------------+--------------+--------------------+---------------------+----------------+--------------------+--------------------+--------------------+-----+-----------------+----------------------+-----------------+--------------+------------------------+-------------------------+---------------------------------+----------------------------------+-------------+-----------+-------------+\n",
            "|  BNP Paribas|        13000|         4100|         20000|          3600|http://www.group....|        Paris, França|          2000.0|/Explorar/melhore...|Mais de US$ 10 bi...|https://www.glass...|  3.8|              3.7|                   4.0|              3.8|           3.4|                     3.4|                      3.5|                             77.0|                              63.0|           S3|BNP PARIBAS|          100|\n",
            "|  BTG Pactual|         1600|          683|          2800|           635|http://www.btgpac...|    São Paulo, Brasil|            NULL|/Explorar/melhore...|Desconhecida/não ...|https://www.glass...|  4.0|              3.7|                   3.5|              2.8|           3.7|                     4.4|                      4.2|                             78.0|                              73.0|           S1|BTG PACTUAL|          100|\n",
            "|   Banco Alfa|          175|           74|           271|           105|http://www.alfane...|    São Paulo, Brasil|          1925.0|/Explorar/melhore...|Desconhecida/não ...|https://www.glass...|  3.5|              3.2|                   3.2|              3.1|           2.8|                     3.8|                      2.7|                             68.0|                              47.0|           S3|       ALFA|          100|\n",
            "+-------------+-------------+-------------+--------------+--------------+--------------------+---------------------+----------------+--------------------+--------------------+--------------------+-----+-----------------+----------------------+-----------------+--------------+------------------------+-------------------------+---------------------------------+----------------------------------+-------------+-----------+-------------+\n",
            "only showing top 3 rows\n",
            "\n",
            "Total rows: 39\n",
            "+--------------+-------------+-------------+--------------+--------------+--------------------+---------------------+----------------+--------------------+--------------------+--------------------+-----+-----------------+----------------------+-----------------+--------------+------------------------+-------------------------+---------------------------------+----------------------------------+-------------+-----------+-------------+\n",
            "| employer_name|reviews_count|culture_count|salaries_count|benefits_count|    employer-website|employer-headquarters|employer-founded|   employer-industry|    employer-revenue|                 url|Geral|Cultura e valores|Diversidade e inclusão|Qualidade de vida|Alta liderança|Remuneração e benefícios|Oportunidades de carreira|Recomendam para outras pessoas(%)|Perspectiva positiva da empresa(%)|CNPJ_Segmento|       Nome|match_percent|\n",
            "+--------------+-------------+-------------+--------------+--------------+--------------------+---------------------+----------------+--------------------+--------------------+--------------------+-----+-----------------+----------------------+-----------------+--------------+------------------------+-------------------------+---------------------------------+----------------------------------+-------------+-----------+-------------+\n",
            "|   BNP Paribas|        13000|         4100|         20000|          3600|http://www.group....|        Paris, França|          2000.0|/Explorar/melhore...|Mais de US$ 10 bi...|https://www.glass...|  3.8|              3.7|                   4.0|              3.8|           3.4|                     3.4|                      3.5|                             77.0|                              63.0|           S3|BNP PARIBAS|          100|\n",
            "|   BTG Pactual|         1600|          683|          2800|           635|http://www.btgpac...|    São Paulo, Brasil|            NULL|/Explorar/melhore...|Desconhecida/não ...|https://www.glass...|  4.0|              3.7|                   3.5|              2.8|           3.7|                     4.4|                      4.2|                             78.0|                              73.0|           S1|BTG PACTUAL|          100|\n",
            "|    Banco Alfa|          175|           74|           271|           105|http://www.alfane...|    São Paulo, Brasil|          1925.0|/Explorar/melhore...|Desconhecida/não ...|https://www.glass...|  3.5|              3.2|                   3.2|              3.1|           2.8|                     3.8|                      2.7|                             68.0|                              47.0|           S3|       ALFA|          100|\n",
            "|     Banco BMG|          445|          232|           704|           277|http://www.bancob...|    São Paulo, Brasil|          1930.0|/Explorar/melhore...|De US$ 1 a US$ 5 ...|https://www.glass...|  4.1|              3.9|                   4.1|              3.7|           3.6|                     4.2|                      3.5|                             79.0|                              63.0|           S3|        BMG|          100|\n",
            "|Banco Bradesco|        11000|         3300|         19000|          3200|http://www.bancob...|       Osasco, Brasil|          1943.0|/Explorar/melhore...|Mais de US$ 10 bi...|https://www.glass...|  4.2|              3.8|                   3.9|              3.4|           3.4|                     4.3|                      3.8|                             81.0|                              66.0|           S1|   BRADESCO|          100|\n",
            "+--------------+-------------+-------------+--------------+--------------+--------------------+---------------------+----------------+--------------------+--------------------+--------------------+-----+-----------------+----------------------+-----------------+--------------+------------------------+-------------------------+---------------------------------+----------------------------------+-------------+-----------+-------------+\n",
            "only showing top 5 rows\n",
            "\n",
            "Limpando os dados da tabela Empregados...\n",
            "+--------------------+-------------+-------------+--------------+--------------+--------------------+---------------------+----------------+--------------------+--------------------+--------------------+-----+-----------------+----------------------+-----------------+--------------+------------------------+-------------------------+---------------------------------+----------------------------------+-------------+--------------------+-------------+\n",
            "|       employer_name|reviews_count|culture_count|salaries_count|benefits_count|    employer-website|employer-headquarters|employer-founded|   employer-industry|    employer-revenue|                 url|Geral|Cultura e valores|Diversidade e inclusão|Qualidade de vida|Alta liderança|Remuneração e benefícios|Oportunidades de carreira|Recomendam para outras pessoas(%)|Perspectiva positiva da empresa(%)|CNPJ_Segmento|                Nome|match_percent|\n",
            "+--------------------+-------------+-------------+--------------+--------------+--------------------+---------------------+----------------+--------------------+--------------------+--------------------+-----+-----------------+----------------------+-----------------+--------------+------------------------+-------------------------+---------------------------------+----------------------------------+-------------+--------------------+-------------+\n",
            "|          Apex Group|          450|          281|           592|            74|http://www.apexgr...|    Hamilton, Bermuda|          2003.0|/Explorar/melhore...|Mais de US$ 10 bi...|https://www.glass...|  3.2|              2.9|                   3.5|              3.0|           2.9|                     2.7|                      3.2|                             52.0|                              53.0|       655522|          APE POUPEX|           70|\n",
            "|          Banco Alfa|          175|           74|           271|           105|http://www.alfane...|    São Paulo, Brasil|          1925.0|/Explorar/melhore...|Desconhecida/não ...|https://www.glass...|  3.5|              3.2|                   3.2|              3.1|           2.8|                     3.8|                      2.7|                             68.0|                              47.0|     58160789|               SAFRA|           67|\n",
            "|China Constructio...|          871|          194|           720|           240|  http://www.ccb.com|        Pequim, China|            NULL|/Explorar/melhore...|Mais de US$ 10 bi...|https://www.glass...|  3.4|              3.0|                   3.0|              3.4|           2.9|                     3.5|                      2.8|                             54.0|                              42.0|      7450604|CHINA CONSTRUCTIO...|           77|\n",
            "|Mercedes-Benz Mob...|          282|           90|           513|           118|https://www.merce...|  Estugarda, Alemanha|          1990.0|/Explorar/melhore...|Mais de US$ 10 bi...|https://www.glass...|  4.1|              4.1|                   4.0|              4.4|           3.7|                     4.0|                      3.6|                             87.0|                              51.0|     60814191|       MERCEDES-BENZ|           73|\n",
            "|Sumitomo Mitsui F...|          903|          246|          1300|           290|http://www.smfg.c...|        Tóquio, Japão|          1996.0|/Explorar/melhore...|Mais de US$ 10 bi...|https://www.glass...|  3.4|              3.2|                   3.3|              3.4|           3.1|                     3.3|                      3.1|                             56.0|                              53.0|     60518222|BANCO SUMITOMO MI...|           65|\n",
            "|         BNP Paribas|        13000|         4100|         20000|          3600|http://www.group....|        Paris, França|          2000.0|/Explorar/melhore...|Mais de US$ 10 bi...|https://www.glass...|  3.8|              3.7|                   4.0|              3.8|           3.4|                     3.4|                      3.5|                             77.0|                              63.0|           S3|         BNP PARIBAS|          100|\n",
            "|         BTG Pactual|         1600|          683|          2800|           635|http://www.btgpac...|    São Paulo, Brasil|            NULL|/Explorar/melhore...|Desconhecida/não ...|https://www.glass...|  4.0|              3.7|                   3.5|              2.8|           3.7|                     4.4|                      4.2|                             78.0|                              73.0|           S1|         BTG PACTUAL|          100|\n",
            "|          Banco Alfa|          175|           74|           271|           105|http://www.alfane...|    São Paulo, Brasil|          1925.0|/Explorar/melhore...|Desconhecida/não ...|https://www.glass...|  3.5|              3.2|                   3.2|              3.1|           2.8|                     3.8|                      2.7|                             68.0|                              47.0|           S3|                ALFA|          100|\n",
            "|           Banco BMG|          445|          232|           704|           277|http://www.bancob...|    São Paulo, Brasil|          1930.0|/Explorar/melhore...|De US$ 1 a US$ 5 ...|https://www.glass...|  4.1|              3.9|                   4.1|              3.7|           3.6|                     4.2|                      3.5|                             79.0|                              63.0|           S3|                 BMG|          100|\n",
            "|      Banco Bradesco|        11000|         3300|         19000|          3200|http://www.bancob...|       Osasco, Brasil|          1943.0|/Explorar/melhore...|Mais de US$ 10 bi...|https://www.glass...|  4.2|              3.8|                   3.9|              3.4|           3.4|                     4.3|                      3.8|                             81.0|                              66.0|           S1|            BRADESCO|          100|\n",
            "|      Banco Daycoval|          300|          157|           521|           107|https://www.dayco...|    São Paulo, Brasil|          1971.0|/Explorar/melhore...|De US$ 25 a US$ 1...|https://www.glass...|  4.0|              3.7|                   3.6|              3.4|           3.3|                     4.1|                      3.4|                             78.0|                              72.0|           S3|  BANCO DAYCOVAL S.A|          100|\n",
            "|         Banco Fibra|          119|           41|           172|            37|http://www.bancof...|    São Paulo, Brasil|            NULL|/Explorar/melhore...|Desconhecida/não ...|https://www.glass...|  4.3|              4.3|                   4.3|              3.8|           3.7|                     4.2|                      3.6|                             87.0|                              84.0|           S3|    BANCO FIBRA S.A.|          100|\n",
            "|      Banco Original|          651|          286|          1100|           261|http://www.origin...|    São Paulo, Brasil|          2016.0|/Explorar/melhore...|Desconhecida/não ...|https://www.glass...|  3.8|              3.4|                   3.5|              3.4|           3.1|                     4.0|                      3.3|                             71.0|                              53.0|           S3|            ORIGINAL|          100|\n",
            "|           Banco PAN|         1100|          520|          1700|           493|http://www.bancop...|    São Paulo, Brasil|          2011.0|/Explorar/melhore...|Desconhecida/não ...|https://www.glass...|  4.4|              4.2|                   4.4|              3.9|           3.9|                     4.6|                      4.0|                             91.0|                              79.0|           S3|                 PAN|          100|\n",
            "|          Banco Pine|          121|           45|           216|            63| http://www.pine.com|    São Paulo, Brasil|          1997.0|/Explorar/melhore...|Desconhecida/não ...|https://www.glass...|  3.8|              3.5|                   3.5|              3.4|           3.0|                     3.9|                      3.5|                             71.0|                              50.0|           S3|                PINE|          100|\n",
            "|    Banco Votorantim|         1400|          563|          2100|           574|http://www.bancob...|    São Paulo, Brasil|          1991.0|/Explorar/melhore...|Desconhecida/não ...|https://www.glass...|  4.4|              4.3|                   4.4|              4.1|           3.9|                     4.6|                      3.9|                             93.0|                              79.0|           S2|          VOTORANTIM|          100|\n",
            "|     Banco do Brasil|         5000|         1100|          9200|          1200|https://www.bb.co...|     Brasília, Brasil|          1808.0|/Explorar/melhore...|Desconhecida/não ...|https://www.glass...|  4.3|              3.9|                   4.0|              3.7|           3.5|                     4.2|                      3.8|                             86.0|                              72.0|           S1|     BANCO DO BRASIL|          100|\n",
            "|Banco do Nordeste...|          525|          113|           840|           115|http://www.bnb.go...|    Fortaleza, Brasil|            NULL|/Explorar/melhore...|Desconhecido/Não ...|https://www.glass...|  4.5|              4.4|                   4.3|              4.3|           4.1|                     4.2|                      4.0|                             90.0|                              83.0|           S2|BANCO DO NORDESTE...|          100|\n",
            "|Bank Of Tokyo-Mit...|          770|          150|          1100|           228|http://www.bk.muf...|        Tóquio, Japão|          1919.0|/Explorar/melhore...|Mais de US$ 10 bi...|https://www.glass...|  3.6|              3.6|                   3.5|              3.4|           3.3|                     3.6|                      3.3|                             65.0|                              43.0|           S3|BANCO TOKYO-MITSU...|           80|\n",
            "|            Banrisul|         1000|          155|          1700|           127|http://www.banris...| Porto Alegre, Brasil|            NULL|/Explorar/melhore...|De US$ 25 a US$ 1...|https://www.glass...|  4.2|              3.6|                   3.8|              3.7|           3.4|                     4.1|                      3.3|                             84.0|                              59.0|           S2|            BANRISUL|          100|\n",
            "+--------------------+-------------+-------------+--------------+--------------+--------------------+---------------------+----------------+--------------------+--------------------+--------------------+-----+-----------------+----------------------+-----------------+--------------+------------------------+-------------------------+---------------------------------+----------------------------------+-------------+--------------------+-------------+\n",
            "only showing top 20 rows\n",
            "\n",
            "\n",
            " Escrevendo em arquivo parquet...\n",
            "\n",
            " Dataframe resultado da camada trusted:\n",
            "+--------------------+-------------+-------------+--------------+--------------+--------------------+---------------------+----------------+--------------------+--------------------+--------------------+-----+-----------------+----------------------+-----------------+--------------+------------------------+-------------------------+---------------------------------+----------------------------------+-------------+--------------------+-------------+\n",
            "|       employer_name|reviews_count|culture_count|salaries_count|benefits_count|    employer-website|employer-headquarters|employer-founded|   employer-industry|    employer-revenue|                 url|Geral|Cultura e valores|Diversidade e inclusão|Qualidade de vida|Alta liderança|Remuneração e benefícios|Oportunidades de carreira|Recomendam para outras pessoas(%)|Perspectiva positiva da empresa(%)|CNPJ_Segmento|                Nome|match_percent|\n",
            "+--------------------+-------------+-------------+--------------+--------------+--------------------+---------------------+----------------+--------------------+--------------------+--------------------+-----+-----------------+----------------------+-----------------+--------------+------------------------+-------------------------+---------------------------------+----------------------------------+-------------+--------------------+-------------+\n",
            "|          Apex Group|          450|          281|           592|            74|http://www.apexgr...|    Hamilton, Bermuda|          2003.0|/Explorar/melhore...|Mais de US$ 10 bi...|https://www.glass...|  3.2|              2.9|                   3.5|              3.0|           2.9|                     2.7|                      3.2|                             52.0|                              53.0|       655522|          APE POUPEX|           70|\n",
            "|          Banco Alfa|          175|           74|           271|           105|http://www.alfane...|    São Paulo, Brasil|          1925.0|/Explorar/melhore...|Desconhecida/não ...|https://www.glass...|  3.5|              3.2|                   3.2|              3.1|           2.8|                     3.8|                      2.7|                             68.0|                              47.0|     58160789|               SAFRA|           67|\n",
            "|China Constructio...|          871|          194|           720|           240|  http://www.ccb.com|        Pequim, China|            NULL|/Explorar/melhore...|Mais de US$ 10 bi...|https://www.glass...|  3.4|              3.0|                   3.0|              3.4|           2.9|                     3.5|                      2.8|                             54.0|                              42.0|      7450604|CHINA CONSTRUCTIO...|           77|\n",
            "|Mercedes-Benz Mob...|          282|           90|           513|           118|https://www.merce...|  Estugarda, Alemanha|          1990.0|/Explorar/melhore...|Mais de US$ 10 bi...|https://www.glass...|  4.1|              4.1|                   4.0|              4.4|           3.7|                     4.0|                      3.6|                             87.0|                              51.0|     60814191|       MERCEDES-BENZ|           73|\n",
            "|Sumitomo Mitsui F...|          903|          246|          1300|           290|http://www.smfg.c...|        Tóquio, Japão|          1996.0|/Explorar/melhore...|Mais de US$ 10 bi...|https://www.glass...|  3.4|              3.2|                   3.3|              3.4|           3.1|                     3.3|                      3.1|                             56.0|                              53.0|     60518222|BANCO SUMITOMO MI...|           65|\n",
            "|         BNP Paribas|        13000|         4100|         20000|          3600|http://www.group....|        Paris, França|          2000.0|/Explorar/melhore...|Mais de US$ 10 bi...|https://www.glass...|  3.8|              3.7|                   4.0|              3.8|           3.4|                     3.4|                      3.5|                             77.0|                              63.0|           S3|         BNP PARIBAS|          100|\n",
            "|         BTG Pactual|         1600|          683|          2800|           635|http://www.btgpac...|    São Paulo, Brasil|            NULL|/Explorar/melhore...|Desconhecida/não ...|https://www.glass...|  4.0|              3.7|                   3.5|              2.8|           3.7|                     4.4|                      4.2|                             78.0|                              73.0|           S1|         BTG PACTUAL|          100|\n",
            "|          Banco Alfa|          175|           74|           271|           105|http://www.alfane...|    São Paulo, Brasil|          1925.0|/Explorar/melhore...|Desconhecida/não ...|https://www.glass...|  3.5|              3.2|                   3.2|              3.1|           2.8|                     3.8|                      2.7|                             68.0|                              47.0|           S3|                ALFA|          100|\n",
            "|           Banco BMG|          445|          232|           704|           277|http://www.bancob...|    São Paulo, Brasil|          1930.0|/Explorar/melhore...|De US$ 1 a US$ 5 ...|https://www.glass...|  4.1|              3.9|                   4.1|              3.7|           3.6|                     4.2|                      3.5|                             79.0|                              63.0|           S3|                 BMG|          100|\n",
            "|      Banco Bradesco|        11000|         3300|         19000|          3200|http://www.bancob...|       Osasco, Brasil|          1943.0|/Explorar/melhore...|Mais de US$ 10 bi...|https://www.glass...|  4.2|              3.8|                   3.9|              3.4|           3.4|                     4.3|                      3.8|                             81.0|                              66.0|           S1|            BRADESCO|          100|\n",
            "|      Banco Daycoval|          300|          157|           521|           107|https://www.dayco...|    São Paulo, Brasil|          1971.0|/Explorar/melhore...|De US$ 25 a US$ 1...|https://www.glass...|  4.0|              3.7|                   3.6|              3.4|           3.3|                     4.1|                      3.4|                             78.0|                              72.0|           S3|  BANCO DAYCOVAL S.A|          100|\n",
            "|         Banco Fibra|          119|           41|           172|            37|http://www.bancof...|    São Paulo, Brasil|            NULL|/Explorar/melhore...|Desconhecida/não ...|https://www.glass...|  4.3|              4.3|                   4.3|              3.8|           3.7|                     4.2|                      3.6|                             87.0|                              84.0|           S3|    BANCO FIBRA S.A.|          100|\n",
            "|      Banco Original|          651|          286|          1100|           261|http://www.origin...|    São Paulo, Brasil|          2016.0|/Explorar/melhore...|Desconhecida/não ...|https://www.glass...|  3.8|              3.4|                   3.5|              3.4|           3.1|                     4.0|                      3.3|                             71.0|                              53.0|           S3|            ORIGINAL|          100|\n",
            "|           Banco PAN|         1100|          520|          1700|           493|http://www.bancop...|    São Paulo, Brasil|          2011.0|/Explorar/melhore...|Desconhecida/não ...|https://www.glass...|  4.4|              4.2|                   4.4|              3.9|           3.9|                     4.6|                      4.0|                             91.0|                              79.0|           S3|                 PAN|          100|\n",
            "|          Banco Pine|          121|           45|           216|            63| http://www.pine.com|    São Paulo, Brasil|          1997.0|/Explorar/melhore...|Desconhecida/não ...|https://www.glass...|  3.8|              3.5|                   3.5|              3.4|           3.0|                     3.9|                      3.5|                             71.0|                              50.0|           S3|                PINE|          100|\n",
            "|    Banco Votorantim|         1400|          563|          2100|           574|http://www.bancob...|    São Paulo, Brasil|          1991.0|/Explorar/melhore...|Desconhecida/não ...|https://www.glass...|  4.4|              4.3|                   4.4|              4.1|           3.9|                     4.6|                      3.9|                             93.0|                              79.0|           S2|          VOTORANTIM|          100|\n",
            "|     Banco do Brasil|         5000|         1100|          9200|          1200|https://www.bb.co...|     Brasília, Brasil|          1808.0|/Explorar/melhore...|Desconhecida/não ...|https://www.glass...|  4.3|              3.9|                   4.0|              3.7|           3.5|                     4.2|                      3.8|                             86.0|                              72.0|           S1|     BANCO DO BRASIL|          100|\n",
            "|Banco do Nordeste...|          525|          113|           840|           115|http://www.bnb.go...|    Fortaleza, Brasil|            NULL|/Explorar/melhore...|Desconhecido/Não ...|https://www.glass...|  4.5|              4.4|                   4.3|              4.3|           4.1|                     4.2|                      4.0|                             90.0|                              83.0|           S2|BANCO DO NORDESTE...|          100|\n",
            "|Bank Of Tokyo-Mit...|          770|          150|          1100|           228|http://www.bk.muf...|        Tóquio, Japão|          1919.0|/Explorar/melhore...|Mais de US$ 10 bi...|https://www.glass...|  3.6|              3.6|                   3.5|              3.4|           3.3|                     3.6|                      3.3|                             65.0|                              43.0|           S3|BANCO TOKYO-MITSU...|           80|\n",
            "|            Banrisul|         1000|          155|          1700|           127|http://www.banris...| Porto Alegre, Brasil|            NULL|/Explorar/melhore...|De US$ 25 a US$ 1...|https://www.glass...|  4.2|              3.6|                   3.8|              3.7|           3.4|                     4.1|                      3.3|                             84.0|                              59.0|           S2|            BANRISUL|          100|\n",
            "+--------------------+-------------+-------------+--------------+--------------+--------------------+---------------------+----------------+--------------------+--------------------+--------------------+-----+-----------------+----------------------+-----------------+--------------+------------------------+-------------------------+---------------------------------+----------------------------------+-------------+--------------------+-------------+\n",
            "only showing top 20 rows\n",
            "\n"
          ]
        }
      ]
    },
    {
      "cell_type": "markdown",
      "source": [
        "## Delivery"
      ],
      "metadata": {
        "id": "jjEsbppsn-vG"
      }
    },
    {
      "cell_type": "code",
      "source": [
        "### Camada Delivery ###\n",
        "#Ler da camada trusted\n",
        "print(\"\\n Lendo arquivos parquet da camada trustred\")\n",
        "read_trusted = read_files(spark,trusted_folder,delimiter, \"parquet\")\n",
        "read_trusted.show(5)\n",
        "\n",
        "\n",
        "\n",
        "#TODO:fazer tratativas da camada delivery\n",
        "\n",
        "df_delivery = transformation_delivery(df_trusted)\n",
        "# Escrever na camada delivery\n",
        "delivered_folder = os.path.join(root, \"delivery\", table_name)\n",
        "print(\"\\n Escrevendo em arquivo parquet...\")\n",
        "write_parquet_files(spark, df_delivery, delivered_folder)\n",
        "load_dataframe_to_postgres(df, table_name, \"delivery\")"
      ],
      "metadata": {
        "id": "ZLK3b_z6n2uc"
      },
      "execution_count": null,
      "outputs": []
    },
    {
      "cell_type": "markdown",
      "source": [
        "##Teste deduplicar registro"
      ],
      "metadata": {
        "id": "RlGN81Za1b-m"
      }
    },
    {
      "cell_type": "code",
      "source": [
        "from pyspark.sql import SparkSession\n",
        "from pyspark.sql.functions import row_number, col\n",
        "from pyspark.sql.window import Window\n",
        "\n",
        "# Create a SparkSession\n",
        "spark = SparkSession.builder.appName(\"DropDuplicates\").getOrCreate()\n",
        "\n",
        "# Sample data\n",
        "data = [(\"A\", \"PRUDENCIAL\", 1),\n",
        "        (\"A\", \"OTHER\", 2),\n",
        "        (\"B\", \"OTHER\", 3),\n",
        "        (\"B\", \"PRUDENCIAL\", 4),\n",
        "        (\"C\", \"PRUDENCIAL\", 5)]\n",
        "df = spark.createDataFrame(data, [\"col1\", \"col2\", \"value\"])\n",
        "\n",
        "# Create a window partitioned by col1, ordered by row_number\n",
        "window = Window.partitionBy(\"col1\").orderBy(row_number().over(Window.partitionBy(\"col1\").orderBy(\"col2\")))\n",
        "\n",
        "# Calculate row number for each partition\n",
        "df = df.withColumn(\"row_num\", row_number().over(window))\n",
        "\n",
        "# Filter to keep the first row for each partition\n",
        "result_df = df.filter(col(\"row_num\") == 1)\n",
        "\n",
        "result_df.show()\n"
      ],
      "metadata": {
        "colab": {
          "base_uri": "https://localhost:8080/"
        },
        "id": "K0_v8SpE1URb",
        "outputId": "e6cd2b08-765e-4ba1-a99c-2c2a7cb53ed1"
      },
      "execution_count": null,
      "outputs": [
        {
          "output_type": "stream",
          "name": "stdout",
          "text": [
            "+----+----------+-----+-------+\n",
            "|col1|      col2|value|row_num|\n",
            "+----+----------+-----+-------+\n",
            "|   A|     OTHER|    2|      1|\n",
            "|   B|     OTHER|    3|      1|\n",
            "|   C|PRUDENCIAL|    5|      1|\n",
            "+----+----------+-----+-------+\n",
            "\n"
          ]
        }
      ]
    },
    {
      "cell_type": "markdown",
      "source": [
        "## Testes"
      ],
      "metadata": {
        "id": "OJDlDMp3S-3y"
      }
    },
    {
      "cell_type": "markdown",
      "source": [],
      "metadata": {
        "id": "iRR8I6w6TCV5"
      }
    },
    {
      "cell_type": "code",
      "source": [
        "from pyspark.sql import SparkSession\n",
        "\n",
        "# Step 2: Create a Spark session\n",
        "spark = SparkSession.builder \\\n",
        "    .appName(\"Exercício 3\") \\\n",
        "    .getOrCreate()\n",
        "\n",
        "# Step 3: Read data from a CSV file\n",
        "# df = spark.read.csv(\"path_to_your_file.csv\", header=True, inferSchema=True)\n",
        "df = spark.read.options(delimiter='\\t', header=True, inferSchema=True).csv(\"/content/sample_data/EnquadramentoInicia_v2.tsv\")\n",
        "\n",
        "# Step 4: Show the first few rows of the DataFrame\n",
        "df.show()\n"
      ],
      "metadata": {
        "colab": {
          "base_uri": "https://localhost:8080/"
        },
        "id": "FMi0AG2jQwM1",
        "outputId": "3996cafd-3740-4eca-bdb2-62b030de682b"
      },
      "execution_count": null,
      "outputs": [
        {
          "output_type": "stream",
          "name": "stdout",
          "text": [
            "+--------+--------+--------------------+\n",
            "|Segmento|    CNPJ|                Nome|\n",
            "+--------+--------+--------------------+\n",
            "|      S1|       0|BANCO DO BRASIL -...|\n",
            "|      S1|60746948|BRADESCO - PRUDEN...|\n",
            "|      S1|30306294|BTG PACTUAL - PRU...|\n",
            "|      S1|  360305|CAIXA ECONOMICA F...|\n",
            "|      S1|60872504|   ITAU - PRUDENCIAL|\n",
            "|      S1|90400888|SANTANDER - PRUDE...|\n",
            "|      S2|92702067|BANRISUL - PRUDEN...|\n",
            "|      S2| 7237373|BANCO DO NORDESTE...|\n",
            "|      S2|33657248|  BNDES - PRUDENCIAL|\n",
            "|      S2|33479023|CITIBANK - PRUDEN...|\n",
            "|      S2|33987793|CREDIT SUISSE - P...|\n",
            "|      S2|58160789|  SAFRA - PRUDENCIAL|\n",
            "|      S2|59588111|VOTORANTIM - PRUD...|\n",
            "|      S3|28195667|ABC-BRASIL - PRUD...|\n",
            "|      S3|60770336|   ALFA - PRUDENCIAL|\n",
            "|      S3|  655522|          APE POUPEX|\n",
            "|      S3| 2992446|BANCO CNH INDUSTR...|\n",
            "|      S3| 2038232|BANCOOB - PRUDENCIAL|\n",
            "|      S3|28127603|BANESTES - PRUDEN...|\n",
            "|      S3|31597552|BANCO CLASSICO S....|\n",
            "+--------+--------+--------------------+\n",
            "only showing top 20 rows\n",
            "\n"
          ]
        }
      ]
    },
    {
      "cell_type": "code",
      "source": [
        "import pandas as pd\n",
        "\n",
        "file_path = \"C:\\\\Users\\\\lucas\\\\OneDrive\\\\Área de Trabalho\\\\USP\\\\C3_Ingestão de Dados\\\\ETL com Python\\\\Dados\\\\Bancos\\\\EnquadramentoInicia_v2.csv\"\n",
        "dest_file = \"C:\\\\Users\\\\lucas\\\\OneDrive\\\\Área de Trabalho\\\\USP\\\\C3_Ingestão de Dados\\\\ETL com Python\\\\Dados\\\\Bancos\\\\banco corrigido.xlsx\"\n",
        "\n",
        "class correct_text:\n",
        "    corrections = {\n",
        "        \"CR�DITO\": \"CRÉDITO\",\n",
        "        \"MUNIC�PIO\": \"MUNICÍPIO\",\n",
        "        \"UB�\": \"UBÁ\",\n",
        "        \"S�O\": \"SÃO\",\n",
        "        \"M�TUO\": \"MÚTUO\",\n",
        "        \"CONFEDERA��O\": \"CONFEDERAÇÃO\",\n",
        "        \"REGI�O\": \"REGIÃO\",\n",
        "        \"AMAZ�NIA\": \"AMAZÔNIA\",\n",
        "        \"ADMISS�O\": \" ADMISSÃO\",\n",
        "        \"TRANSAMAZ�NICA\": \"TRANSAMAZÔNICA\",\n",
        "        \"GOI�S\": \"GOIÁS\",\n",
        "        \"INTERA��O\": \"INTERAÇÃO\",\n",
        "        \"SOLID�RIA\": \"SOLIDÁRIA\",\n",
        "        \"AG�NCIA\": \"AGÊNCIA\",\n",
        "        \"RIBEIR�O\": \"RIBEIRÃO\",\n",
        "        \"TOP�ZIO\": \"TOPÁZIO\",\n",
        "        \"PIAU�\": \"PIAUÍ\",\n",
        "        'PARAN�': 'PARANÁ',\n",
        "        'ALIAN�A': 'ALIANÇA',\n",
        "        'JACU�': 'JACUÍ',\n",
        "        'PRODU��O': 'PRODUÇÃO',\n",
        "        'PAR�': 'PARÁ',\n",
        "        'ITAJA�': 'ITAJAÍ',\n",
        "        'INTEGRA��O': 'INTEGRAÇÃO',\n",
        "        'GA�CHO': 'GAÚCHO',\n",
        "        'UNI�O': 'UNIÃO',\n",
        "        'CREDIGUA�U': 'CREDIGUAÇU',\n",
        "        'EMPRES�RIOS': 'EMPRESÁRIOS',\n",
        "        'IGUA�U': 'IGUAÇU',\n",
        "        'PARAN�/SÃO': 'PARANÁ/SÃO',\n",
        "        'PARA�BA': 'PARAÍBA',\n",
        "        'M�DICOS': 'MÉDICOS',\n",
        "        'SA�DE': 'SAÚDE',\n",
        "        'SOLID�RIO': 'SOLIDÁRIO',\n",
        "        'POUPAN�A': 'POUPANÇA',\n",
        "        'ELETROBR�S': 'ELETROBRÁS',\n",
        "        'NEG�CIOS': 'NEGÓCIOS',\n",
        "        'SEGURAN�A': 'SEGURANÇA',\n",
        "        'P�BLICA': 'PÚBLICA',\n",
        "        'T�TULO': 'TÍTULO',\n",
        "        'FAM�LIA': 'FAMÍLIA',\n",
        "        'M�XIMA': 'MÁXIMA',\n",
        "        'MONOP�LIO': 'MONOPÓLIO',\n",
        "        'C�MBIO': 'CÂMBIO',\n",
        "        '�REA': 'ÁREA',\n",
        "        'TEND�NCIA': 'TENDÊNCIA',\n",
        "        'M�DICOS,': 'MÉDICOS',\n",
        "        'CI�NCIAS': 'CIÊNCIAS',\n",
        "        'FARMAC�UTICA': 'FARMACÊUTICA',\n",
        "        'ESP�RITO': 'ESPÍRITO',\n",
        "        'PARTICIPA��ES': 'PARTICIPAÇÕES',\n",
        "        'SERVI�OS': 'SERVIÇO',\n",
        "        'EMPR�STIMO': 'EMPRÉSTIMO',\n",
        "        'FUNCION�RIOS': 'FUNCIONÁRIOS',\n",
        "        'GOI�NIA': 'GOIÂNIA',\n",
        "        'ROND�NIA': 'RONDÔNIA',\n",
        "        'DIVIN�POLIS': 'DIVINÓPOLIS',\n",
        "        'ITA�NA': 'ITAÚNA',\n",
        "        'SEBASTI�O': 'SEBASTIÃO',\n",
        "    }\n",
        "\n",
        "    def replace_charact(text, corrections_dict):\n",
        "        for key, value in corrections_dict.items():\n",
        "          text = text.replace(key, value)\n",
        "        return text\n",
        "\n",
        "    # def identificar_palavras_com_caractere(df, coluna, arquivo_saida):\n",
        "    def identify_words_with_character(df, coluna, arquivo_saida):\n",
        "\n",
        "        novas_palavras = []\n",
        "\n",
        "        for bank in df[coluna]:\n",
        "            words = bank.split()\n",
        "            for word in words:\n",
        "                if '�' in word and word not in (novas_palavras):\n",
        "                    novas_palavras.append(word)\n",
        "\n",
        "        with open(arquivo_saida, 'a',encoding='utf-8') as arquivo:\n",
        "            for palavra in novas_palavras:\n",
        "                # arquivo.write(palavra + '\\n')\n",
        "                arquivo.write(f'{str(palavra)} \\n')\n",
        "        arquivo.close()\n",
        "\n",
        "        print(novas_palavras)\n",
        "\n",
        "\n",
        "    def words_with_errors(df, coluna, arquivo_saida):\n",
        "\n",
        "        novas_palavras = {}\n",
        "\n",
        "        for bank in df[coluna]:\n",
        "            words = bank.split()\n",
        "            for word in words:\n",
        "                if '�' in word and word not in (novas_palavras):\n",
        "                    novas_palavras[word] = ''\n",
        "\n",
        "        with open(arquivo_saida, 'a',encoding='utf-8') as arquivo:\n",
        "            arquivo.write(str(novas_palavras))\n",
        "            # for palavra in novas_palavras:\n",
        "            #     # arquivo.write(palavra + '\\n')\n",
        "            #     arquivo.write(f'{str(palavra)} \\n')\n",
        "        arquivo.close()\n",
        "\n",
        "        print(novas_palavras)\n",
        "\n",
        "\n",
        "# Dicionário de correções\n",
        "corrections = correct_text.corrections\n",
        "\n",
        "# Banks dataframe\n",
        "df = pd.read_csv(file_path, sep=\"\\t\")\n",
        "\n",
        "# Aplicando a função a todas as linhas da coluna 'Nome'\n",
        "df['Nome Corrigido'] = df['Nome'].apply(lambda x: correct_text.replace_charact(x, corrections))\n",
        "\n",
        "# novas_palavras = []\n",
        "\n",
        "# for bank in df['Nome Corrigido']:\n",
        "#     words = bank.split()\n",
        "#     for word in words:\n",
        "#         if '�' in word and word not in (novas_palavras):\n",
        "#             novas_palavras.append(word)\n",
        "\n",
        "# print(novas_palavras)\n",
        "\n",
        "\n",
        "# df.to_excel(dest_file)\n",
        "log_palavras = \"C:\\\\Users\\\\lucas\\\\OneDrive\\\\Área de Trabalho\\\\USP\\\\C3_Ingestão de Dados\\\\ETL com Python\\\\Dados\\\\Bancos\\\\new_words_with_special.txt\"\n",
        "log_palavras2 = \"C:\\\\Users\\\\lucas\\\\OneDrive\\\\Área de Trabalho\\\\USP\\\\C3_Ingestão de Dados\\\\ETL com Python\\\\Dados\\\\Bancos\\\\words_with_errors.json\"\n",
        "\n",
        "# Identificando palavras com o caractere '�' e salvando em um arquivo\n",
        "# correct_text.identify_words_with_character(df, 'Nome Corrigido', log_palavras)\n",
        "correct_text.words_with_errors(df, 'Nome Corrigido', log_palavras2)\n",
        "\n",
        "\n",
        "\n",
        "print(df)\n",
        "\n"
      ],
      "metadata": {
        "id": "QZRnek-3STQh"
      },
      "execution_count": null,
      "outputs": []
    }
  ]
}